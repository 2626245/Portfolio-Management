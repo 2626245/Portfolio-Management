{
 "cells": [
  {
   "cell_type": "code",
   "execution_count": 1,
   "id": "60fea767-07a3-472a-b2e9-95bf0b59f066",
   "metadata": {},
   "outputs": [
    {
     "name": "stderr",
     "output_type": "stream",
     "text": [
      "[*********************100%***********************]  6 of 6 completed\n"
     ]
    },
    {
     "data": {
      "application/vnd.microsoft.datawrangler.viewer.v0+json": {
       "columns": [
        {
         "name": "Date",
         "rawType": "datetime64[ns]",
         "type": "datetime"
        },
        {
         "name": "AAPL",
         "rawType": "float64",
         "type": "float"
        },
        {
         "name": "META",
         "rawType": "float64",
         "type": "float"
        },
        {
         "name": "MSFT",
         "rawType": "float64",
         "type": "float"
        },
        {
         "name": "NFLX",
         "rawType": "float64",
         "type": "float"
        },
        {
         "name": "NVDA",
         "rawType": "float64",
         "type": "float"
        },
        {
         "name": "TSLA",
         "rawType": "float64",
         "type": "float"
        }
       ],
       "ref": "16a4397c-a7a1-4799-ac92-7648282efafb",
       "rows": [
        [
         "2020-01-03 00:00:00",
         "-0.009721954762270224",
         "-0.005291253721715461",
         "-0.012451519375300313",
         "-0.01185532182484772",
         "-0.01600594267123645",
         "0.02963325829792085"
        ],
        [
         "2020-01-06 00:00:00",
         "0.00796815623136804",
         "0.018833622949033346",
         "0.00258458091525271",
         "0.030469447259134697",
         "0.004193632047758911",
         "0.01925463704513497"
        ],
        [
         "2020-01-07 00:00:00",
         "-0.004703125776223671",
         "0.0021635377638371533",
         "-0.009117874699889006",
         "-0.015126661630534555",
         "0.012106615599803083",
         "0.03880052465815398"
        ],
        [
         "2020-01-08 00:00:00",
         "0.016086069571825234",
         "0.010138105557505384",
         "0.015928537840999013",
         "0.025729432397959107",
         "0.0018754134328913263",
         "0.04920482578812169"
        ],
        [
         "2020-01-09 00:00:00",
         "0.021241164128651846",
         "0.01431089812935138",
         "0.012493241509560438",
         "-0.01061134822817067",
         "0.010982616303190751",
         "-0.021945011900097344"
        ],
        [
         "2020-01-10 00:00:00",
         "0.0022607536368590697",
         "-0.0010993467313726857",
         "-0.0046273426193707",
         "-0.01969259309129534",
         "0.00534943779783803",
         "-0.006627297633174267"
        ],
        [
         "2020-01-13 00:00:00",
         "0.021364249813494718",
         "0.017655694778962783",
         "0.012024131640121727",
         "0.029995520440425194",
         "0.031352290038418884",
         "0.09768895885093332"
        ],
        [
         "2020-01-14 00:00:00",
         "-0.013503495038056368",
         "-0.012843008501601805",
         "-0.007042746678069922",
         "-0.0006786586132870864",
         "-0.01865219695824727",
         "0.024882822120200876"
        ],
        [
         "2020-01-15 00:00:00",
         "-0.004285463583600602",
         "0.009540630622510093",
         "0.006476049708452392",
         "0.00112198435168831",
         "-0.006915349448025521",
         "-0.03610201351305786"
        ],
        [
         "2020-01-16 00:00:00",
         "0.012526595375402128",
         "0.002803692023869875",
         "0.018323322018242605",
         "-0.0013271955564060356",
         "0.013682686487060058",
         "-0.009662477636014799"
        ],
        [
         "2020-01-17 00:00:00",
         "0.011071078415425983",
         "0.0016682554319480403",
         "0.005596864791985956",
         "0.0031008750980092703",
         "0.001405746422338039",
         "-0.005822894156913949"
        ],
        [
         "2020-01-21 00:00:00",
         "-0.006776919231169076",
         "-0.00315117308245505",
         "-0.0035909997872426436",
         "-0.004592775383464254",
         "-0.0053751744341931085",
         "0.07189030619278935"
        ],
        [
         "2020-01-22 00:00:00",
         "0.0035694649719772986",
         "-0.0005418790544795549",
         "-0.004804678295076914",
         "-0.03581670425666572",
         "0.008752019745896567",
         "0.04086264444061727"
        ],
        [
         "2020-01-23 00:00:00",
         "0.004815856172679656",
         "-0.007048662941865458",
         "0.006155892976086985",
         "0.07239265675925033",
         "0.010994922916208516",
         "0.004635122144013071"
        ],
        [
         "2020-01-24 00:00:00",
         "-0.002882010735507312",
         "-0.008281711104951905",
         "-0.01007704483784988",
         "0.0101830592003469",
         "-0.009412130668741026",
         "-0.012897603180825445"
        ],
        [
         "2020-01-27 00:00:00",
         "-0.029405303745993372",
         "-0.014086391919006513",
         "-0.016723039551971852",
         "-0.029108615564327645",
         "-0.04104117103290894",
         "-0.012039272835579595"
        ],
        [
         "2020-01-28 00:00:00",
         "0.028289350384864687",
         "0.013589611456399364",
         "0.01959571864948506",
         "0.016448856890290076",
         "0.032347991833349354",
         "0.015913383222044608"
        ],
        [
         "2020-01-29 00:00:00",
         "0.020932274237941195",
         "0.0249781440359107",
         "0.015592996909604251",
         "-0.015379276714461931",
         "-0.009799755183803383",
         "0.024854513769903885"
        ],
        [
         "2020-01-30 00:00:00",
         "-0.0014488020385964306",
         "-0.061371718335260006",
         "0.02820734773089817",
         "0.013346504614142773",
         "0.001099741893011874",
         "0.10296225866535558"
        ],
        [
         "2020-01-31 00:00:00",
         "-0.04433879955514186",
         "-0.036366991327053455",
         "-0.014758506270217131",
         "-0.007620618769495824",
         "-0.03815947583977708",
         "0.015230690473505337"
        ],
        [
         "2020-02-03 00:00:00",
         "-0.0027466001634849357",
         "0.011292173349948031",
         "0.02437866355643714",
         "0.037410541595267466",
         "0.01649538162372388",
         "0.19894859376394902"
        ],
        [
         "2020-02-04 00:00:00",
         "0.03301389002335231",
         "0.027621306349250307",
         "0.032916304336546354",
         "0.030754217222416225",
         "0.028294652796609032",
         "0.13725640223576474"
        ],
        [
         "2020-02-05 00:00:00",
         "0.008154399490462705",
         "0.0013344164651636348",
         "-0.001221078188746505",
         "0.001788579292276049",
         "0.014688355752646043",
         "-0.1717583947927872"
        ],
        [
         "2020-02-06 00:00:00",
         "0.011696973010677736",
         "0.003521961877055446",
         "0.020733857749310358",
         "-0.007357916849901169",
         "0.013917520693393914",
         "0.01940931694254422"
        ],
        [
         "2020-02-07 00:00:00",
         "-0.013592801606689298",
         "0.00701920239088305",
         "0.0014158486619553212",
         "-0.0004905932344206887",
         "-0.01046199628276423",
         "-0.001188323805631053"
        ],
        [
         "2020-02-10 00:00:00",
         "0.0047497038750903275",
         "0.0034378817018387853",
         "0.02615682021963872",
         "0.011724018974700101",
         "0.045232321869460135",
         "0.031026496329857656"
        ],
        [
         "2020-02-11 00:00:00",
         "-0.006033517693537882",
         "-0.02755082950754939",
         "-0.022575510189879466",
         "0.007060649110609107",
         "0.018709332783193755",
         "0.004019260937028868"
        ],
        [
         "2020-02-12 00:00:00",
         "0.023748014744446877",
         "0.01723048879625022",
         "0.0014639844288528714",
         "0.016912433522247472",
         "0.017357874833259013",
         "-0.009155657933695438"
        ],
        [
         "2020-02-13 00:00:00",
         "-0.00712106728363282",
         "0.011292491434085727",
         "-0.005413791847796889",
         "0.0036577566251916327",
         "-0.006457723503803914",
         "0.047843652551780025"
        ],
        [
         "2020-02-14 00:00:00",
         "0.0002461223377241417",
         "0.004879525665216544",
         "0.008926814763777324",
         "-0.002621919286845631",
         "0.07020442202086552",
         "-0.004937755668348531"
        ],
        [
         "2020-02-18 00:00:00",
         "-0.018310580530449094",
         "0.016901677631871115",
         "0.010142887234878328",
         "0.01940064406210462",
         "0.023396445234824093",
         "0.0729597130158357"
        ],
        [
         "2020-02-19 00:00:00",
         "0.014482812521278143",
         "-0.00142337252926239",
         "0.0029992089923067677",
         "-0.00410025360486832",
         "0.061132334431296176",
         "0.06875580895325561"
        ],
        [
         "2020-02-20 00:00:00",
         "-0.01025888098676686",
         "-0.013379768809288262",
         "-0.01527099220985395",
         "-0.0004919921287581674",
         "-0.019065837860817947",
         "-0.019631105097986157"
        ],
        [
         "2020-02-21 00:00:00",
         "-0.022634924229200992",
         "-0.02050537863285895",
         "-0.03161272756842537",
         "-0.01536267532585811",
         "-0.04739235880600712",
         "0.0017678087791648256"
        ],
        [
         "2020-02-24 00:00:00",
         "-0.04750040926783494",
         "-0.045009048337928625",
         "-0.043115402909993716",
         "-0.02991552845023182",
         "-0.07069732034481646",
         "-0.07459490327646512"
        ],
        [
         "2020-02-25 00:00:00",
         "-0.03387232723578093",
         "-0.01967917265457597",
         "-0.016501796363423638",
         "-0.023352361226139484",
         "-0.04109346480834419",
         "-0.040633739641448896"
        ],
        [
         "2020-02-26 00:00:00",
         "0.01586396353769981",
         "0.0021853142082148835",
         "0.012494612138595151",
         "0.05318113274803382",
         "0.021370086206984773",
         "-0.026390470576789893"
        ],
        [
         "2020-02-27 00:00:00",
         "-0.06536835665973617",
         "-0.0377788851557026",
         "-0.0704589191418793",
         "-0.019855497767108488",
         "-0.0556657542529444",
         "-0.1281458395846271"
        ],
        [
         "2020-02-28 00:00:00",
         "-0.0005852330004200157",
         "0.014334706328775315",
         "0.024212887309118747",
         "-0.007209902174784899",
         "0.06916075772406893",
         "-0.016215047800994142"
        ],
        [
         "2020-03-02 00:00:00",
         "0.09310066305363973",
         "0.020626642301902587",
         "0.06653924421312696",
         "0.032571847962042266",
         "0.023549300814780905",
         "0.11322034293215233"
        ],
        [
         "2020-03-03 00:00:00",
         "-0.03175904155674336",
         "-0.053706087427718874",
         "-0.047919545230574845",
         "-0.03222673972625556",
         "-0.038128669438063256",
         "0.0025416095259802596"
        ],
        [
         "2020-03-04 00:00:00",
         "0.04638440207678096",
         "0.031577786660418106",
         "0.0367151078184047",
         "0.040730048482044756",
         "0.07002863806086346",
         "0.0053520173720666975"
        ],
        [
         "2020-03-05 00:00:00",
         "-0.03243701044080993",
         "-0.03436581048106613",
         "-0.025095189700025444",
         "-0.02868758831780871",
         "-0.03943621881293857",
         "-0.033302230445070524"
        ],
        [
         "2020-03-06 00:00:00",
         "-0.013279999260622177",
         "-0.022033725992077757",
         "-0.028267355838550334",
         "-0.010220498876200246",
         "-0.026528582534150136",
         "-0.029066704869448956"
        ],
        [
         "2020-03-09 00:00:00",
         "-0.07909188307985937",
         "-0.0640013243908708",
         "-0.0677726707997176",
         "-0.06092639215100171",
         "-0.07743189547029106",
         "-0.13572525720249962"
        ],
        [
         "2020-03-10 00:00:00",
         "0.07202103564329532",
         "0.051268476170338584",
         "0.06838418216639419",
         "0.05091060390086688",
         "0.06372231386289506",
         "0.061398023823663106"
        ],
        [
         "2020-03-11 00:00:00",
         "-0.034730212182327524",
         "-0.04461525148859424",
         "-0.04530179211725649",
         "-0.039024500218407754",
         "-0.05595985427500161",
         "-0.017200452670558586"
        ],
        [
         "2020-03-12 00:00:00",
         "-0.09875466325527993",
         "-0.0926340240251039",
         "-0.09483819325328757",
         "-0.09907982423787387",
         "-0.12236776416969075",
         "-0.11617242301113506"
        ],
        [
         "2020-03-13 00:00:00",
         "0.1198081533555726",
         "0.102349973858058",
         "0.14216859970203988",
         "0.06677236413312837",
         "0.11340181640667701",
         "-0.0248505535904755"
        ],
        [
         "2020-03-16 00:00:00",
         "-0.12864685633679296",
         "-0.14252999684734524",
         "-0.14739044725062955",
         "-0.11138861972882097",
         "-0.18452085645419813",
         "-0.18577806455584012"
        ]
       ],
       "shape": {
        "columns": 6,
        "rows": 1129
       }
      },
      "text/html": [
       "<div>\n",
       "<style scoped>\n",
       "    .dataframe tbody tr th:only-of-type {\n",
       "        vertical-align: middle;\n",
       "    }\n",
       "\n",
       "    .dataframe tbody tr th {\n",
       "        vertical-align: top;\n",
       "    }\n",
       "\n",
       "    .dataframe thead th {\n",
       "        text-align: right;\n",
       "    }\n",
       "</style>\n",
       "<table border=\"1\" class=\"dataframe\">\n",
       "  <thead>\n",
       "    <tr style=\"text-align: right;\">\n",
       "      <th>Ticker</th>\n",
       "      <th>AAPL</th>\n",
       "      <th>META</th>\n",
       "      <th>MSFT</th>\n",
       "      <th>NFLX</th>\n",
       "      <th>NVDA</th>\n",
       "      <th>TSLA</th>\n",
       "    </tr>\n",
       "    <tr>\n",
       "      <th>Date</th>\n",
       "      <th></th>\n",
       "      <th></th>\n",
       "      <th></th>\n",
       "      <th></th>\n",
       "      <th></th>\n",
       "      <th></th>\n",
       "    </tr>\n",
       "  </thead>\n",
       "  <tbody>\n",
       "    <tr>\n",
       "      <th>2020-01-03</th>\n",
       "      <td>-0.009722</td>\n",
       "      <td>-0.005291</td>\n",
       "      <td>-0.012452</td>\n",
       "      <td>-0.011855</td>\n",
       "      <td>-0.016006</td>\n",
       "      <td>0.029633</td>\n",
       "    </tr>\n",
       "    <tr>\n",
       "      <th>2020-01-06</th>\n",
       "      <td>0.007968</td>\n",
       "      <td>0.018834</td>\n",
       "      <td>0.002585</td>\n",
       "      <td>0.030469</td>\n",
       "      <td>0.004194</td>\n",
       "      <td>0.019255</td>\n",
       "    </tr>\n",
       "    <tr>\n",
       "      <th>2020-01-07</th>\n",
       "      <td>-0.004703</td>\n",
       "      <td>0.002164</td>\n",
       "      <td>-0.009118</td>\n",
       "      <td>-0.015127</td>\n",
       "      <td>0.012107</td>\n",
       "      <td>0.038801</td>\n",
       "    </tr>\n",
       "    <tr>\n",
       "      <th>2020-01-08</th>\n",
       "      <td>0.016086</td>\n",
       "      <td>0.010138</td>\n",
       "      <td>0.015929</td>\n",
       "      <td>0.025729</td>\n",
       "      <td>0.001875</td>\n",
       "      <td>0.049205</td>\n",
       "    </tr>\n",
       "    <tr>\n",
       "      <th>2020-01-09</th>\n",
       "      <td>0.021241</td>\n",
       "      <td>0.014311</td>\n",
       "      <td>0.012493</td>\n",
       "      <td>-0.010611</td>\n",
       "      <td>0.010983</td>\n",
       "      <td>-0.021945</td>\n",
       "    </tr>\n",
       "    <tr>\n",
       "      <th>...</th>\n",
       "      <td>...</td>\n",
       "      <td>...</td>\n",
       "      <td>...</td>\n",
       "      <td>...</td>\n",
       "      <td>...</td>\n",
       "      <td>...</td>\n",
       "    </tr>\n",
       "    <tr>\n",
       "      <th>2024-06-24</th>\n",
       "      <td>0.003133</td>\n",
       "      <td>0.008347</td>\n",
       "      <td>-0.004691</td>\n",
       "      <td>-0.024923</td>\n",
       "      <td>-0.066840</td>\n",
       "      <td>-0.002350</td>\n",
       "    </tr>\n",
       "    <tr>\n",
       "      <th>2024-06-25</th>\n",
       "      <td>0.004468</td>\n",
       "      <td>0.023431</td>\n",
       "      <td>0.007327</td>\n",
       "      <td>0.005067</td>\n",
       "      <td>0.067564</td>\n",
       "      <td>0.026126</td>\n",
       "    </tr>\n",
       "    <tr>\n",
       "      <th>2024-06-26</th>\n",
       "      <td>0.019993</td>\n",
       "      <td>0.004935</td>\n",
       "      <td>0.002683</td>\n",
       "      <td>0.007852</td>\n",
       "      <td>0.002459</td>\n",
       "      <td>0.048145</td>\n",
       "    </tr>\n",
       "    <tr>\n",
       "      <th>2024-06-27</th>\n",
       "      <td>0.003986</td>\n",
       "      <td>0.012551</td>\n",
       "      <td>0.001526</td>\n",
       "      <td>0.009813</td>\n",
       "      <td>-0.019067</td>\n",
       "      <td>0.005347</td>\n",
       "    </tr>\n",
       "    <tr>\n",
       "      <th>2024-06-28</th>\n",
       "      <td>-0.016254</td>\n",
       "      <td>-0.029525</td>\n",
       "      <td>-0.013029</td>\n",
       "      <td>-0.013824</td>\n",
       "      <td>-0.003629</td>\n",
       "      <td>0.002330</td>\n",
       "    </tr>\n",
       "  </tbody>\n",
       "</table>\n",
       "<p>1129 rows × 6 columns</p>\n",
       "</div>"
      ],
      "text/plain": [
       "Ticker          AAPL      META      MSFT      NFLX      NVDA      TSLA\n",
       "Date                                                                  \n",
       "2020-01-03 -0.009722 -0.005291 -0.012452 -0.011855 -0.016006  0.029633\n",
       "2020-01-06  0.007968  0.018834  0.002585  0.030469  0.004194  0.019255\n",
       "2020-01-07 -0.004703  0.002164 -0.009118 -0.015127  0.012107  0.038801\n",
       "2020-01-08  0.016086  0.010138  0.015929  0.025729  0.001875  0.049205\n",
       "2020-01-09  0.021241  0.014311  0.012493 -0.010611  0.010983 -0.021945\n",
       "...              ...       ...       ...       ...       ...       ...\n",
       "2024-06-24  0.003133  0.008347 -0.004691 -0.024923 -0.066840 -0.002350\n",
       "2024-06-25  0.004468  0.023431  0.007327  0.005067  0.067564  0.026126\n",
       "2024-06-26  0.019993  0.004935  0.002683  0.007852  0.002459  0.048145\n",
       "2024-06-27  0.003986  0.012551  0.001526  0.009813 -0.019067  0.005347\n",
       "2024-06-28 -0.016254 -0.029525 -0.013029 -0.013824 -0.003629  0.002330\n",
       "\n",
       "[1129 rows x 6 columns]"
      ]
     },
     "execution_count": 1,
     "metadata": {},
     "output_type": "execute_result"
    }
   ],
   "source": [
    "import yfinance as yf\n",
    "\n",
    "stock_tickers = ['MSFT','AAPL','TSLA','NVDA','NFLX','META']\n",
    "database = yf.download(stock_tickers,start='2020-01-01',end='2024-06-30',auto_adjust=True)\n",
    "database = database['Close']\n",
    "data = database.dropna().pct_change(1).dropna()\n",
    "data"
   ]
  },
  {
   "cell_type": "code",
   "execution_count": 2,
   "id": "3f0f6b35",
   "metadata": {},
   "outputs": [
    {
     "data": {
      "application/vnd.microsoft.datawrangler.viewer.v0+json": {
       "columns": [
        {
         "name": "index",
         "rawType": "object",
         "type": "string"
        },
        {
         "name": "Corr",
         "rawType": "float64",
         "type": "float"
        }
       ],
       "ref": "07d471ae-da10-43cc-9bbd-5a7a5b21c91f",
       "rows": [
        [
         "META",
         "0.0035059172163482938"
        ],
        [
         "NFLX",
         "0.002513645799065552"
        ],
        [
         "NVDA",
         "0.001221403814973208"
        ],
        [
         "MSFT",
         "0.0007101400998601779"
        ],
        [
         "TSLA",
         "-0.012641703871784826"
        ],
        [
         "AAPL",
         "-0.02652694198661566"
        ]
       ],
       "shape": {
        "columns": 1,
        "rows": 6
       }
      },
      "text/html": [
       "<div>\n",
       "<style scoped>\n",
       "    .dataframe tbody tr th:only-of-type {\n",
       "        vertical-align: middle;\n",
       "    }\n",
       "\n",
       "    .dataframe tbody tr th {\n",
       "        vertical-align: top;\n",
       "    }\n",
       "\n",
       "    .dataframe thead th {\n",
       "        text-align: right;\n",
       "    }\n",
       "</style>\n",
       "<table border=\"1\" class=\"dataframe\">\n",
       "  <thead>\n",
       "    <tr style=\"text-align: right;\">\n",
       "      <th></th>\n",
       "      <th>Corr</th>\n",
       "    </tr>\n",
       "  </thead>\n",
       "  <tbody>\n",
       "    <tr>\n",
       "      <th>META</th>\n",
       "      <td>0.003506</td>\n",
       "    </tr>\n",
       "    <tr>\n",
       "      <th>NFLX</th>\n",
       "      <td>0.002514</td>\n",
       "    </tr>\n",
       "    <tr>\n",
       "      <th>NVDA</th>\n",
       "      <td>0.001221</td>\n",
       "    </tr>\n",
       "    <tr>\n",
       "      <th>MSFT</th>\n",
       "      <td>0.000710</td>\n",
       "    </tr>\n",
       "    <tr>\n",
       "      <th>TSLA</th>\n",
       "      <td>-0.012642</td>\n",
       "    </tr>\n",
       "    <tr>\n",
       "      <th>AAPL</th>\n",
       "      <td>-0.026527</td>\n",
       "    </tr>\n",
       "  </tbody>\n",
       "</table>\n",
       "</div>"
      ],
      "text/plain": [
       "          Corr\n",
       "META  0.003506\n",
       "NFLX  0.002514\n",
       "NVDA  0.001221\n",
       "MSFT  0.000710\n",
       "TSLA -0.012642\n",
       "AAPL -0.026527"
      ]
     },
     "execution_count": 2,
     "metadata": {},
     "output_type": "execute_result"
    }
   ],
   "source": [
    "import pandas as pd\n",
    "\n",
    "for i in stock_tickers:\n",
    "    data[f\"pct+1 {i}\"] = data[f\"{i}\"].pct_change(1)\n",
    "    data[f\"pct-12 {i}\"] = data[f\"{i}\"].pct_change(12)\n",
    "    \n",
    "    \n",
    "corre = []\n",
    "validation_score = 0.3\n",
    "train_size = int(len(data)*(1-validation_score))\n",
    "train_data = data.iloc[:train_size,:]\n",
    "test_data = data.iloc[train_size:,:]\n",
    "\n",
    "for i in stock_tickers:\n",
    "    cor = train_data[[f\"pct-12 {i}\",f\"pct+1 {i}\"]].corr().values[0][1]\n",
    "    corre.append(cor)\n",
    "    \n",
    "\n",
    "correlation = pd.DataFrame(corre,index=stock_tickers,columns=[\"Corr\"])\n",
    "correlation = correlation.sort_values(by=\"Corr\",ascending=False)\n",
    "\n",
    "correlation"
   ]
  },
  {
   "cell_type": "code",
   "execution_count": 3,
   "id": "149ad668",
   "metadata": {},
   "outputs": [
    {
     "name": "stdout",
     "output_type": "stream",
     "text": [
      "Ticker      Signal pct-12 META  Signal pct-12 NFLX  Signal pct-12 NVDA\n",
      "Date                                                                  \n",
      "2023-02-23                  -1                   1                   0\n",
      "2023-02-24                  -1                  -1                   0\n",
      "2023-02-27                   1                   1                   0\n",
      "2023-02-28                  -1                   1                   0\n",
      "2023-03-01                   1                   1                   0\n",
      "...                        ...                 ...                 ...\n",
      "2024-06-24                   1                  -1                   0\n",
      "2024-06-25                  -1                  -1                   0\n",
      "2024-06-26                  -1                  -1                   0\n",
      "2024-06-27                   1                   1                   0\n",
      "2024-06-28                  -1                  -1                   0\n",
      "\n",
      "[339 rows x 3 columns]\n"
     ]
    },
    {
     "name": "stderr",
     "output_type": "stream",
     "text": [
      "C:\\Users\\ndebe\\AppData\\Roaming\\Python\\Python313\\site-packages\\pandas\\core\\nanops.py:1016: RuntimeWarning: invalid value encountered in subtract\n",
      "  sqr = _ensure_numeric((avg - values) ** 2)\n"
     ]
    }
   ],
   "source": [
    "import pandas as pd\n",
    "\n",
    "for i in stock_tickers:\n",
    "    data[f\"pct+1 {i}\"] = data[f\"{i}\"].pct_change(1)\n",
    "    data[f\"pct-12 {i}\"] = data[f\"{i}\"].pct_change(12)\n",
    "    \n",
    "    \n",
    "corre = []\n",
    "validation_score = 0.3\n",
    "train_size = int(len(data)*(1-validation_score))\n",
    "train_data = data.iloc[:train_size,:]\n",
    "test_data = data.iloc[train_size:,:]\n",
    "\n",
    "for i in stock_tickers:\n",
    "    cor = train_data[[f\"pct-12 {i}\",f\"pct+1 {i}\"]].corr().values[0][1]\n",
    "    corre.append(cor)\n",
    "    \n",
    "\n",
    "correlation = pd.DataFrame(corre,index=stock_tickers,columns=[\"Corr\"])\n",
    "correlation = correlation.sort_values(by=\"Corr\",ascending=False)\n",
    "best_tickers = ['META','NFLX','NVDA']\n",
    "\n",
    "columns = [f\"pct-12 {i}\" for i in best_tickers]\n",
    "\n",
    "train_data_mean = train_data[columns].mean()\n",
    "train_data_std = train_data[columns].std()\n",
    "\n",
    "#creating the z scores\n",
    "\n",
    "train_data.loc[:,columns] = (train_data[columns]-train_data_mean)/train_data_std\n",
    "test_data.loc[:,columns ] = (test_data[columns]-train_data_mean)/train_data_std\n",
    "\n",
    "median = train_data[columns].median()\n",
    "\n",
    "test_data = test_data.copy()\n",
    "\n",
    "for i in range(len(columns)):\n",
    "    signal_col = f\"Signal {columns[i]}\"\n",
    "    profit_col = f\"Profit {columns[i]}\"\n",
    "    \n",
    "    # Initialize the Signal column to 0\n",
    "    test_data.loc[:, signal_col] = 0\n",
    "    \n",
    "    # Assign -1 and 1 based on the median value\n",
    "    test_data.loc[test_data[columns[i]] < median.iloc[i], signal_col] = -1\n",
    "    test_data.loc[test_data[columns[i]] > median.iloc[i], signal_col] = 1\n",
    "    \n",
    "    # Calculate Profit column\n",
    "    test_data.loc[:, profit_col] = (test_data[signal_col].shift(1) * test_data[f\"pct-12 {best_tickers[i]}\"])\n",
    "    \n",
    "\n",
    "print(test_data[[f\"Signal {columns[i]}\" for i in range(len(columns))]])"
   ]
  },
  {
   "cell_type": "code",
   "execution_count": 4,
   "id": "595f7b83",
   "metadata": {},
   "outputs": [
    {
     "data": {
      "image/png": "[encoded data removed]",
      "text/plain": [
       "<Figure size 1200x600 with 1 Axes>"
      ]
     },
     "metadata": {},
     "output_type": "display_data"
    }
   ],
   "source": [
    "import numpy as np\n",
    "import matplotlib.pyplot as plt\n",
    "\n",
    "# Replace NaN and infinite values\n",
    "profit_columns = [f\"Profit {col}\" for col in columns]\n",
    "test_data[profit_columns] = test_data[profit_columns].fillna(0)\n",
    "test_data[profit_columns] = test_data[profit_columns].replace([np.inf, -np.inf], 0)\n",
    "\n",
    "# Calculate cumulative returns for the portfolio\n",
    "cumulative_returns = test_data[profit_columns].sum(axis=1).cumsum()\n",
    "\n",
    "# Plot cumulative returns\n",
    "plt.figure(figsize=(12, 6))\n",
    "plt.plot(cumulative_returns, color='black', linewidth=2, label='Total Portfolio')\n",
    "\n",
    "# Add a horizontal red line at y=0\n",
    "plt.axhline(y=0, color='red', linestyle='--', linewidth=1.5)\n",
    "\n",
    "# Add labels, title, and legend\n",
    "plt.title('Cumulative Returns of the Trend Following Strategy', fontsize=14)\n",
    "plt.xlabel('Date', fontsize=12)\n",
    "plt.ylabel('Cumulative Returns', fontsize=12)\n",
    "plt.legend(fontsize=12)\n",
    "plt.grid(True, linestyle='--', alpha=0.7)\n",
    "plt.show()\n"
   ]
  }
 ],
 "metadata": {
  "kernelspec": {
   "display_name": "Python 3",
   "language": "python",
   "name": "python3"
  },
  "language_info": {
   "codemirror_mode": {
    "name": "ipython",
    "version": 3
   },
   "file_extension": ".py",
   "mimetype": "text/x-python",
   "name": "python",
   "nbconvert_exporter": "python",
   "pygments_lexer": "ipython3",
   "version": "3.13.2"
  }
 },
 "nbformat": 4,
 "nbformat_minor": 5
}
