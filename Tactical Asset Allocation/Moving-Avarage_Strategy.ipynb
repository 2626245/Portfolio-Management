{
 "cells": [
  {
   "cell_type": "code",
   "execution_count": 14,
   "id": "55a6a8e9-acf5-4a41-9714-57d38fb662d4",
   "metadata": {},
   "outputs": [
    {
     "name": "stderr",
     "output_type": "stream",
     "text": [
      "[*********************100%***********************]  3 of 3 completed\n"
     ]
    },
    {
     "data": {
      "application/vnd.microsoft.datawrangler.viewer.v0+json": {
       "columns": [
        {
         "name": "Date",
         "rawType": "datetime64[ns]",
         "type": "datetime"
        },
        {
         "name": "META",
         "rawType": "float64",
         "type": "float"
        },
        {
         "name": "NFLX",
         "rawType": "float64",
         "type": "float"
        },
        {
         "name": "NVDA",
         "rawType": "float64",
         "type": "float"
        }
       ],
       "ref": "c7d39c5e-0704-4c99-924b-aefe404e459a",
       "rows": [
        [
         "2020-01-03 00:00:00",
         "-0.005291253721715461",
         "-0.01185532182484772",
         "-0.01600633935933915"
        ],
        [
         "2020-01-06 00:00:00",
         "0.018833622949033346",
         "0.030469447259134697",
         "0.004193714216391031"
        ],
        [
         "2020-01-07 00:00:00",
         "0.002163682095909447",
         "-0.015126661630534555",
         "0.012106779174109406"
        ],
        [
         "2020-01-08 00:00:00",
         "0.010137960076953112",
         "0.025729432397959107",
         "0.0018754134328913263"
        ],
        [
         "2020-01-09 00:00:00",
         "0.01431089812935138",
         "-0.01061134822817067",
         "0.010982695995933822"
        ],
        [
         "2020-01-10 00:00:00",
         "-0.0010993467313726857",
         "-0.01969259309129534",
         "0.005349279722137945"
        ],
        [
         "2020-01-13 00:00:00",
         "0.017655694778962783",
         "0.029995520440425194",
         "0.03135229249667626"
        ],
        [
         "2020-01-14 00:00:00",
         "-0.01284307763998882",
         "-0.0006786586132870864",
         "-0.01865235042437774"
        ],
        [
         "2020-01-15 00:00:00",
         "0.009540771366493894",
         "0.00112198435168831",
         "-0.006915041179053949"
        ],
        [
         "2020-01-16 00:00:00",
         "0.0028034837013948266",
         "-0.0013271955564060356",
         "0.013682607411225733"
        ],
        [
         "2020-01-17 00:00:00",
         "0.00166846320888836",
         "0.0031008750980092703",
         "0.0014059772888879163"
        ],
        [
         "2020-01-21 00:00:00",
         "-0.00315110379801109",
         "-0.004592775383464254",
         "-0.005375634279812358"
        ],
        [
         "2020-01-22 00:00:00",
         "-0.000541948264518366",
         "-0.03581670425666572",
         "0.008752176300128367"
        ],
        [
         "2020-01-23 00:00:00",
         "-0.007048731775929684",
         "0.07239265675925033",
         "0.010995076943250304"
        ],
        [
         "2020-01-24 00:00:00",
         "-0.008281780919754178",
         "0.0101830592003469",
         "-0.00941228147463391"
        ],
        [
         "2020-01-27 00:00:00",
         "-0.014086322512836147",
         "-0.029108615564327645",
         "-0.04104102121306907"
        ],
        [
         "2020-01-28 00:00:00",
         "0.013589611456399364",
         "0.016448856890290076",
         "0.03234782974863393"
        ],
        [
         "2020-01-29 00:00:00",
         "0.0249781440359107",
         "-0.015379276714461931",
         "-0.009799215166646502"
        ],
        [
         "2020-01-30 00:00:00",
         "-0.06137158087613692",
         "0.013346504614142773",
         "0.0010990392164373919"
        ],
        [
         "2020-01-31 00:00:00",
         "-0.03636713244801848",
         "-0.007620618769495824",
         "-0.03815932889669804"
        ],
        [
         "2020-02-03 00:00:00",
         "0.011292021376308137",
         "0.037410541595267466",
         "0.01649546398439994"
        ],
        [
         "2020-02-04 00:00:00",
         "0.027621385638445295",
         "0.030754217222416225",
         "0.028294493377989616"
        ],
        [
         "2020-02-05 00:00:00",
         "0.001334416562734475",
         "0.001788579292276049",
         "0.014688358029812276"
        ],
        [
         "2020-02-06 00:00:00",
         "0.0035220351555087515",
         "-0.007357916849901169",
         "0.01391775200161649"
        ],
        [
         "2020-02-07 00:00:00",
         "0.00701920239088305",
         "-0.0004905932344206887",
         "-0.010462070839796445"
        ],
        [
         "2020-02-10 00:00:00",
         "0.0034380262174427134",
         "0.011724018974700101",
         "0.045232321869460135"
        ],
        [
         "2020-02-11 00:00:00",
         "-0.027550897549895148",
         "0.007060649110609107",
         "0.018709259936330325"
        ],
        [
         "2020-02-12 00:00:00",
         "0.017230561570709346",
         "0.016912433522247472",
         "0.01735801909246959"
        ],
        [
         "2020-02-13 00:00:00",
         "0.011292344197854964",
         "0.0036577566251916327",
         "-0.006457933916618752"
        ],
        [
         "2020-02-14 00:00:00",
         "0.004879381698802199",
         "-0.002621919286845631",
         "0.07020457344575592"
        ],
        [
         "2020-02-18 00:00:00",
         "0.016901751687008915",
         "0.01940064406210462",
         "0.023396445234824093"
        ],
        [
         "2020-02-19 00:00:00",
         "-0.0014233021864612505",
         "-0.00410025360486832",
         "0.06113220524399665"
        ],
        [
         "2020-02-20 00:00:00",
         "-0.013379980439705896",
         "-0.0004919921287581674",
         "-0.019065718437211054"
        ],
        [
         "2020-02-21 00:00:00",
         "-0.020505168530842277",
         "-0.01536267532585811",
         "-0.047392234694968005"
        ],
        [
         "2020-02-24 00:00:00",
         "-0.04500897534097059",
         "-0.02991552845023182",
         "-0.0706976368478841"
        ],
        [
         "2020-02-25 00:00:00",
         "-0.01967917115035267",
         "-0.023352361226139484",
         "-0.04109319305578174"
        ],
        [
         "2020-02-26 00:00:00",
         "0.0021853140378220726",
         "0.05318113274803382",
         "0.02136979223435409"
        ],
        [
         "2020-02-27 00:00:00",
         "-0.037778882216440324",
         "-0.019855497767108488",
         "-0.05566547991304438"
        ],
        [
         "2020-02-28 00:00:00",
         "0.014334543456951732",
         "-0.007209902174784899",
         "0.06916060089801523"
        ],
        [
         "2020-03-02 00:00:00",
         "0.02062664394612912",
         "0.032571847962042266",
         "0.023549444262888963"
        ],
        [
         "2020-03-03 00:00:00",
         "-0.05370585731412525",
         "-0.03222673972625556",
         "-0.03812908234749823"
        ],
        [
         "2020-03-04 00:00:00",
         "0.031577616377128415",
         "0.040730048482044756",
         "0.07002931130669898"
        ],
        [
         "2020-03-05 00:00:00",
         "-0.03436581048106613",
         "-0.02868758831780871",
         "-0.03943654465519675"
        ],
        [
         "2020-03-06 00:00:00",
         "-0.022033808848372916",
         "-0.010220498876200246",
         "-0.02652844428434742"
        ],
        [
         "2020-03-09 00:00:00",
         "-0.06400132981325934",
         "-0.06092639215100171",
         "-0.07743210578761806"
        ],
        [
         "2020-03-10 00:00:00",
         "0.05126839029474173",
         "0.05091060390086688",
         "0.06372224580083752"
        ],
        [
         "2020-03-11 00:00:00",
         "-0.04461525917151188",
         "-0.039024500218407754",
         "-0.05595964659458197"
        ],
        [
         "2020-03-12 00:00:00",
         "-0.09263386047643407",
         "-0.09907982423787387",
         "-0.12236791952398818"
        ],
        [
         "2020-03-13 00:00:00",
         "0.10234987453457012",
         "0.06677236413312837",
         "0.11340183648053248"
        ],
        [
         "2020-03-16 00:00:00",
         "-0.1425299195879257",
         "-0.11138861972882097",
         "-0.18452072680444132"
        ]
       ],
       "shape": {
        "columns": 3,
        "rows": 1129
       }
      },
      "text/html": [
       "<div>\n",
       "<style scoped>\n",
       "    .dataframe tbody tr th:only-of-type {\n",
       "        vertical-align: middle;\n",
       "    }\n",
       "\n",
       "    .dataframe tbody tr th {\n",
       "        vertical-align: top;\n",
       "    }\n",
       "\n",
       "    .dataframe thead th {\n",
       "        text-align: right;\n",
       "    }\n",
       "</style>\n",
       "<table border=\"1\" class=\"dataframe\">\n",
       "  <thead>\n",
       "    <tr style=\"text-align: right;\">\n",
       "      <th>Ticker</th>\n",
       "      <th>META</th>\n",
       "      <th>NFLX</th>\n",
       "      <th>NVDA</th>\n",
       "    </tr>\n",
       "    <tr>\n",
       "      <th>Date</th>\n",
       "      <th></th>\n",
       "      <th></th>\n",
       "      <th></th>\n",
       "    </tr>\n",
       "  </thead>\n",
       "  <tbody>\n",
       "    <tr>\n",
       "      <th>2020-01-03</th>\n",
       "      <td>-0.005291</td>\n",
       "      <td>-0.011855</td>\n",
       "      <td>-0.016006</td>\n",
       "    </tr>\n",
       "    <tr>\n",
       "      <th>2020-01-06</th>\n",
       "      <td>0.018834</td>\n",
       "      <td>0.030469</td>\n",
       "      <td>0.004194</td>\n",
       "    </tr>\n",
       "    <tr>\n",
       "      <th>2020-01-07</th>\n",
       "      <td>0.002164</td>\n",
       "      <td>-0.015127</td>\n",
       "      <td>0.012107</td>\n",
       "    </tr>\n",
       "    <tr>\n",
       "      <th>2020-01-08</th>\n",
       "      <td>0.010138</td>\n",
       "      <td>0.025729</td>\n",
       "      <td>0.001875</td>\n",
       "    </tr>\n",
       "    <tr>\n",
       "      <th>2020-01-09</th>\n",
       "      <td>0.014311</td>\n",
       "      <td>-0.010611</td>\n",
       "      <td>0.010983</td>\n",
       "    </tr>\n",
       "    <tr>\n",
       "      <th>...</th>\n",
       "      <td>...</td>\n",
       "      <td>...</td>\n",
       "      <td>...</td>\n",
       "    </tr>\n",
       "    <tr>\n",
       "      <th>2024-06-24</th>\n",
       "      <td>0.008347</td>\n",
       "      <td>-0.024923</td>\n",
       "      <td>-0.066840</td>\n",
       "    </tr>\n",
       "    <tr>\n",
       "      <th>2024-06-25</th>\n",
       "      <td>0.023431</td>\n",
       "      <td>0.005067</td>\n",
       "      <td>0.067564</td>\n",
       "    </tr>\n",
       "    <tr>\n",
       "      <th>2024-06-26</th>\n",
       "      <td>0.004935</td>\n",
       "      <td>0.007852</td>\n",
       "      <td>0.002459</td>\n",
       "    </tr>\n",
       "    <tr>\n",
       "      <th>2024-06-27</th>\n",
       "      <td>0.012551</td>\n",
       "      <td>0.009813</td>\n",
       "      <td>-0.019066</td>\n",
       "    </tr>\n",
       "    <tr>\n",
       "      <th>2024-06-28</th>\n",
       "      <td>-0.029525</td>\n",
       "      <td>-0.013824</td>\n",
       "      <td>-0.003629</td>\n",
       "    </tr>\n",
       "  </tbody>\n",
       "</table>\n",
       "<p>1129 rows × 3 columns</p>\n",
       "</div>"
      ],
      "text/plain": [
       "Ticker          META      NFLX      NVDA\n",
       "Date                                    \n",
       "2020-01-03 -0.005291 -0.011855 -0.016006\n",
       "2020-01-06  0.018834  0.030469  0.004194\n",
       "2020-01-07  0.002164 -0.015127  0.012107\n",
       "2020-01-08  0.010138  0.025729  0.001875\n",
       "2020-01-09  0.014311 -0.010611  0.010983\n",
       "...              ...       ...       ...\n",
       "2024-06-24  0.008347 -0.024923 -0.066840\n",
       "2024-06-25  0.023431  0.005067  0.067564\n",
       "2024-06-26  0.004935  0.007852  0.002459\n",
       "2024-06-27  0.012551  0.009813 -0.019066\n",
       "2024-06-28 -0.029525 -0.013824 -0.003629\n",
       "\n",
       "[1129 rows x 3 columns]"
      ]
     },
     "execution_count": 14,
     "metadata": {},
     "output_type": "execute_result"
    }
   ],
   "source": [
    "import yfinance as yf\n",
    "\n",
    "stock_tickers = ['META','NFLX','NVDA']\n",
    "database = yf.download(stock_tickers,start='2020-01-01',end='2024-06-30',auto_adjust=True)\n",
    "database = database['Close']\n",
    "data = database.dropna().pct_change(1).dropna()\n",
    "data"
   ]
  },
  {
   "cell_type": "code",
   "execution_count": 15,
   "id": "a74119e1",
   "metadata": {},
   "outputs": [
    {
     "name": "stdout",
     "output_type": "stream",
     "text": [
      "Ticker      Signal Momentum Factor META  Signal Momentum Factor NFLX  \\\n",
      "Date                                                                   \n",
      "2023-02-23                            1                           -1   \n",
      "2023-02-24                            1                           -1   \n",
      "2023-02-27                            1                           -1   \n",
      "2023-02-28                            1                           -1   \n",
      "2023-03-01                            1                            1   \n",
      "...                                 ...                          ...   \n",
      "2024-06-24                           -1                           -1   \n",
      "2024-06-25                           -1                           -1   \n",
      "2024-06-26                            1                           -1   \n",
      "2024-06-27                            1                           -1   \n",
      "2024-06-28                            1                            1   \n",
      "\n",
      "Ticker      Signal Momentum Factor NVDA  \n",
      "Date                                     \n",
      "2023-02-23                           -1  \n",
      "2023-02-24                            1  \n",
      "2023-02-27                            1  \n",
      "2023-02-28                            1  \n",
      "2023-03-01                           -1  \n",
      "...                                 ...  \n",
      "2024-06-24                           -1  \n",
      "2024-06-25                           -1  \n",
      "2024-06-26                           -1  \n",
      "2024-06-27                           -1  \n",
      "2024-06-28                            1  \n",
      "\n",
      "[339 rows x 3 columns]\n"
     ]
    }
   ],
   "source": [
    "from numpy import median\n",
    "from scipy.stats import f\n",
    "\n",
    "\n",
    "for i in stock_tickers:\n",
    "    data[f\"pct {i}\"] = data[i].pct_change(1)\n",
    "    data[f\"SMA3 {i}\"] = data[i].rolling(3).mean().shift(1)\n",
    "    data[f\"SMA12 {i}\"] = data[i].rolling(12).mean().shift(1)\n",
    "    data[f\"Momentum Factor {i}\"] = data[f\"SMA3 {i}\"] - data[f\"SMA12 {i}\"]\n",
    "    \n",
    "#so now creating a vector function \n",
    "validation_score = 0.3\n",
    "\n",
    "columns = [f\"Momentum Factor {i}\" for i in stock_tickers]\n",
    "\n",
    "train_size =int(len(data)*(1-validation_score))\n",
    "train_data = data.iloc[:train_size,:]\n",
    "test_data = data.iloc[train_size:,:]\n",
    "#creating a vector function\n",
    "\n",
    "train_data_mean = train_data[columns].mean()\n",
    "train_data_std = train_data[columns].std()\n",
    "\n",
    "#now creating the z_scores\n",
    "\n",
    "train_data.loc[:, columns] = (train_data[columns] - train_data_mean) / train_data_std\n",
    "test_data.loc[:, columns] = (test_data[columns] - train_data_mean) / train_data_std\n",
    "\n",
    "median = train_data[columns].median()\n",
    "\n",
    "test_data = test_data.copy()\n",
    "\n",
    "for i in range(len(columns)):\n",
    "    signal_col = f\"Signal {columns[i]}\"\n",
    "    profit_col = f\"Profit {columns[i]}\"\n",
    "    \n",
    "    # Initialize the Signal column to 0\n",
    "    test_data.loc[:, signal_col] = 0\n",
    "    \n",
    "    # Assign -1 and 1 based on the median value\n",
    "    test_data.loc[test_data[columns[i]] < median.iloc[i], signal_col] = -1\n",
    "    test_data.loc[test_data[columns[i]] > median.iloc[i], signal_col] = 1\n",
    "    \n",
    "    # Calculate Profit column\n",
    "    test_data.loc[:, profit_col] = (test_data[signal_col].shift(1) * test_data[f\"pct {stock_tickers[i]}\"])\n",
    "    \n",
    "print(test_data[[f\"Signal {columns[i]}\" for i in range(len(columns))]])\n"
   ]
  },
  {
   "cell_type": "code",
   "execution_count": 16,
   "id": "2a9c8fe1",
   "metadata": {},
   "outputs": [
    {
     "data": {
      "image/png": "[encoded data removed]",
      "text/plain": [
       "<Figure size 1200x600 with 1 Axes>"
      ]
     },
     "metadata": {},
     "output_type": "display_data"
    }
   ],
   "source": [
    "import numpy as np\n",
    "import matplotlib.pyplot as plt\n",
    "\n",
    "# Replace NaN and infinite values\n",
    "profit_columns = [f\"Profit {col}\" for col in columns]\n",
    "test_data[profit_columns] = test_data[profit_columns].fillna(0)\n",
    "test_data[profit_columns] = test_data[profit_columns].replace([np.inf, -np.inf], 0)\n",
    "\n",
    "# Calculate cumulative returns for the portfolio\n",
    "cumulative_returns = test_data[profit_columns].sum(axis=1).cumsum()\n",
    "\n",
    "# Plot cumulative returns\n",
    "plt.figure(figsize=(12, 6))\n",
    "plt.plot(cumulative_returns, color='black', linewidth=2, label='Total Portfolio')\n",
    "\n",
    "# Add a horizontal red line at y=0\n",
    "plt.axhline(y=0, color='red', linestyle='--', linewidth=1.5)\n",
    "\n",
    "# Add labels, title, and legend\n",
    "plt.title('Cumulative Returns of the Moving Average Strategy', fontsize=14)\n",
    "plt.xlabel('Date', fontsize=12)\n",
    "plt.ylabel('Cumulative Returns', fontsize=12)\n",
    "plt.legend(fontsize=12)\n",
    "plt.grid(True, linestyle='--', alpha=0.7)\n",
    "plt.show()\n"
   ]
  }
 ],
 "metadata": {
  "kernelspec": {
   "display_name": "Python 3",
   "language": "python",
   "name": "python3"
  },
  "language_info": {
   "codemirror_mode": {
    "name": "ipython",
    "version": 3
   },
   "file_extension": ".py",
   "mimetype": "text/x-python",
   "name": "python",
   "nbconvert_exporter": "python",
   "pygments_lexer": "ipython3",
   "version": "3.13.2"
  }
 },
 "nbformat": 4,
 "nbformat_minor": 5
}
