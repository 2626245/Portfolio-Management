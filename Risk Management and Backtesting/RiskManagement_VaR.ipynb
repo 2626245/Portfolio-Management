{
 "cells": [
  {
   "cell_type": "code",
   "execution_count": 1,
   "id": "0759beb4-6dc0-41fa-b87b-a94202f05047",
   "metadata": {},
   "outputs": [
    {
     "name": "stderr",
     "output_type": "stream",
     "text": [
      "[*********************100%***********************]  3 of 3 completed\n"
     ]
    },
    {
     "data": {
      "text/html": [
       "<div>\n",
       "<style scoped>\n",
       "    .dataframe tbody tr th:only-of-type {\n",
       "        vertical-align: middle;\n",
       "    }\n",
       "\n",
       "    .dataframe tbody tr th {\n",
       "        vertical-align: top;\n",
       "    }\n",
       "\n",
       "    .dataframe thead th {\n",
       "        text-align: right;\n",
       "    }\n",
       "</style>\n",
       "<table border=\"1\" class=\"dataframe\">\n",
       "  <thead>\n",
       "    <tr style=\"text-align: right;\">\n",
       "      <th>Ticker</th>\n",
       "      <th>META</th>\n",
       "      <th>NFLX</th>\n",
       "      <th>TSLA</th>\n",
       "    </tr>\n",
       "    <tr>\n",
       "      <th>Date</th>\n",
       "      <th></th>\n",
       "      <th></th>\n",
       "      <th></th>\n",
       "    </tr>\n",
       "  </thead>\n",
       "  <tbody>\n",
       "    <tr>\n",
       "      <th>2012-05-21 00:00:00+00:00</th>\n",
       "      <td>-0.109861</td>\n",
       "      <td>0.025443</td>\n",
       "      <td>0.043904</td>\n",
       "    </tr>\n",
       "    <tr>\n",
       "      <th>2012-05-22 00:00:00+00:00</th>\n",
       "      <td>-0.089039</td>\n",
       "      <td>-0.056175</td>\n",
       "      <td>0.070559</td>\n",
       "    </tr>\n",
       "    <tr>\n",
       "      <th>2012-05-23 00:00:00+00:00</th>\n",
       "      <td>0.032258</td>\n",
       "      <td>0.062029</td>\n",
       "      <td>0.007143</td>\n",
       "    </tr>\n",
       "    <tr>\n",
       "      <th>2012-05-24 00:00:00+00:00</th>\n",
       "      <td>0.032188</td>\n",
       "      <td>-0.022806</td>\n",
       "      <td>-0.023855</td>\n",
       "    </tr>\n",
       "    <tr>\n",
       "      <th>2012-05-25 00:00:00+00:00</th>\n",
       "      <td>-0.033909</td>\n",
       "      <td>-0.000711</td>\n",
       "      <td>-0.015522</td>\n",
       "    </tr>\n",
       "    <tr>\n",
       "      <th>...</th>\n",
       "      <td>...</td>\n",
       "      <td>...</td>\n",
       "      <td>...</td>\n",
       "    </tr>\n",
       "    <tr>\n",
       "      <th>2021-12-22 00:00:00+00:00</th>\n",
       "      <td>-0.011221</td>\n",
       "      <td>0.015407</td>\n",
       "      <td>0.074947</td>\n",
       "    </tr>\n",
       "    <tr>\n",
       "      <th>2021-12-23 00:00:00+00:00</th>\n",
       "      <td>0.014495</td>\n",
       "      <td>-0.000244</td>\n",
       "      <td>0.057619</td>\n",
       "    </tr>\n",
       "    <tr>\n",
       "      <th>2021-12-27 00:00:00+00:00</th>\n",
       "      <td>0.032633</td>\n",
       "      <td>-0.001580</td>\n",
       "      <td>0.025248</td>\n",
       "    </tr>\n",
       "    <tr>\n",
       "      <th>2021-12-28 00:00:00+00:00</th>\n",
       "      <td>0.000116</td>\n",
       "      <td>-0.003931</td>\n",
       "      <td>-0.005000</td>\n",
       "    </tr>\n",
       "    <tr>\n",
       "      <th>2021-12-29 00:00:00+00:00</th>\n",
       "      <td>-0.009474</td>\n",
       "      <td>-0.000278</td>\n",
       "      <td>-0.002095</td>\n",
       "    </tr>\n",
       "  </tbody>\n",
       "</table>\n",
       "<p>2419 rows × 3 columns</p>\n",
       "</div>"
      ],
      "text/plain": [
       "Ticker                         META      NFLX      TSLA\n",
       "Date                                                   \n",
       "2012-05-21 00:00:00+00:00 -0.109861  0.025443  0.043904\n",
       "2012-05-22 00:00:00+00:00 -0.089039 -0.056175  0.070559\n",
       "2012-05-23 00:00:00+00:00  0.032258  0.062029  0.007143\n",
       "2012-05-24 00:00:00+00:00  0.032188 -0.022806 -0.023855\n",
       "2012-05-25 00:00:00+00:00 -0.033909 -0.000711 -0.015522\n",
       "...                             ...       ...       ...\n",
       "2021-12-22 00:00:00+00:00 -0.011221  0.015407  0.074947\n",
       "2021-12-23 00:00:00+00:00  0.014495 -0.000244  0.057619\n",
       "2021-12-27 00:00:00+00:00  0.032633 -0.001580  0.025248\n",
       "2021-12-28 00:00:00+00:00  0.000116 -0.003931 -0.005000\n",
       "2021-12-29 00:00:00+00:00 -0.009474 -0.000278 -0.002095\n",
       "\n",
       "[2419 rows x 3 columns]"
      ]
     },
     "execution_count": 1,
     "metadata": {},
     "output_type": "execute_result"
    }
   ],
   "source": [
    "import yfinance as yf\n",
    "\n",
    "stock_tickers =['META', 'NFLX', 'TSLA']\n",
    "\n",
    "database = yf.download(stock_tickers,start='2012-01-01',end ='2021-12-30')\n",
    "database = database['Adj Close']\n",
    "data = database.dropna().pct_change(1).dropna()\n",
    "data"
   ]
  },
  {
   "cell_type": "code",
   "execution_count": 2,
   "id": "280e37a8",
   "metadata": {},
   "outputs": [],
   "source": [
    "import numpy as np\n",
    "\n",
    "def MV_Criterion(weight,data):\n",
    "    Lambda = 3\n",
    "    W = 1\n",
    "    Wbar= (1+0.25)/100\n",
    "    \n",
    "    portfolio_return = np.multiply(data,np.transpose(weight))\n",
    "    portfolio_return = portfolio_return.sum(axis=1)\n",
    "    \n",
    "    mean = np.mean(portfolio_return,axis=0)\n",
    "    std = np.std(portfolio_return,axis=0)\n",
    "    criterion = (Wbar**(-1-Lambda))/1+Lambda +(Wbar**-Lambda)*W*mean - (Wbar**(-1-Lambda))*Lambda*0.5*W**2*std**2\n",
    "    \n",
    "    return -1*criterion\n",
    "    "
   ]
  },
  {
   "cell_type": "code",
   "execution_count": 3,
   "id": "407d8992",
   "metadata": {},
   "outputs": [
    {
     "name": "stdout",
     "output_type": "stream",
     "text": [
      "Optimization terminated successfully    (Exit mode 0)\n",
      "            Current function value: -40937879.24983137\n",
      "            Iterations: 6\n",
      "            Function evaluations: 28\n",
      "            Gradient evaluations: 6\n",
      "[0.53110902 0.22995544 0.23893554]\n"
     ]
    }
   ],
   "source": [
    "\n",
    "import numpy as np\n",
    "from scipy.optimize import Bounds, minimize\n",
    "\n",
    "validation_score = 0.3\n",
    "train_size = int(len(data)*(1-validation_score))\n",
    "train_data = data.iloc[:train_size,:]\n",
    "test_data = data.iloc[train_size:,:]\n",
    "\n",
    "n = data.shape[1]\n",
    "x0 = np.ones(n)\n",
    "\n",
    "cons = ({'type':'eq','fun':lambda x:np.sum(abs(x))-1})\n",
    "\n",
    "Bounds = [(0,1) for i in range(0,n)]\n",
    "\n",
    "res = minimize(MV_Criterion,x0,args=train_data,method=\"SLSQP\",constraints=cons,bounds=Bounds,options={'disp':True})\n",
    "optimal_weight=res.x\n",
    "optimal_portfolio_return = np.multiply(test_data,np.transpose(optimal_weight))\n",
    "optimal_portfolio_return = optimal_portfolio_return.sum(axis=1)\n",
    "\n",
    "print(optimal_weight)"
   ]
  },
  {
   "cell_type": "code",
   "execution_count": 33,
   "id": "e87e10b6",
   "metadata": {},
   "outputs": [
    {
     "name": "stdout",
     "output_type": "stream",
     "text": [
      "-0.06228289263824732\n"
     ]
    }
   ],
   "source": [
    "import pandas as pd\n",
    "import numpy as np\n",
    "\n",
    "def Var_function(theta,mu,sigma):\n",
    "    n = 100000\n",
    "    t = int(n*theta)\n",
    "    vec = pd.DataFrame(np.random.normal(mu,sigma,size=(n,)),columns =['Simulations'])\n",
    "    VaR = vec.sort_values(by ='Simulations').iloc[t].values[0]\n",
    "    \n",
    "    return VaR\n",
    "\n",
    "\n",
    "print(Var_function(0.05, optimal_portfolio_return.mean(), optimal_portfolio_return.std()))\n"
   ]
  },
  {
   "cell_type": "code",
   "execution_count": 28,
   "id": "5cc2fe1c",
   "metadata": {},
   "outputs": [
    {
     "name": "stdout",
     "output_type": "stream",
     "text": [
      "-0.061957896202708404\n"
     ]
    }
   ],
   "source": [
    "import pandas as pd\n",
    "import numpy as np\n",
    "\n",
    "def cVar_function(theta,mu,sigma):\n",
    "    n = 100000\n",
    "    t = int(n*theta)\n",
    "    vec = pd.DataFrame(np.random.normal(mu,sigma,size=(n,)),columns =['Simulations'])\n",
    "    cVaR = vec.sort_values(by ='Simulations').iloc[0:,t:].mean().values[0]\n",
    "    \n",
    "    return cVaR\n",
    "\n",
    "print(Var_function(0.05, optimal_portfolio_return.mean(), optimal_portfolio_return.std()))"
   ]
  },
  {
   "cell_type": "code",
   "execution_count": 34,
   "id": "46a950c7",
   "metadata": {},
   "outputs": [],
   "source": [
    "from statistics import covariance\n",
    "import pandas as pd\n",
    "\n",
    "def beta_function(portfolio,ben = \"^GSPC\"):\n",
    "    benchmarck = yf.download(ben)[\"Adj Close\"]\n",
    "    benchmarck = benchmarck.dropna().pct_change(1)\n",
    "    join = pd.concat((portfolio,benchmarck), axis=1).dropna()\n",
    "    \n",
    "    cov = np.cov(join,rowvar=False)[0][1]\n",
    "    var = np.cov(join,rowvar = False)[1][1]\n",
    "    \n",
    "    return cov/var"
   ]
  },
  {
   "cell_type": "code",
   "execution_count": 39,
   "id": "31ebc6c6",
   "metadata": {},
   "outputs": [
    {
     "name": "stderr",
     "output_type": "stream",
     "text": [
      "[*********************100%***********************]  1 of 1 completed\n",
      "[*********************100%***********************]  1 of 1 completed\n",
      "[*********************100%***********************]  1 of 1 completed"
     ]
    },
    {
     "name": "stdout",
     "output_type": "stream",
     "text": [
      "[0.50650935 0.21266651 0.28082414]\n"
     ]
    },
    {
     "name": "stderr",
     "output_type": "stream",
     "text": [
      "\n"
     ]
    }
   ],
   "source": [
    "def contribution_risk_function(weight,data,ben = \"^GSPC\"):\n",
    "    num_assets = len(weight)\n",
    "    res_asset_risk =[]\n",
    "    \n",
    "    for i in range(num_assets):\n",
    "        asset_risk = beta_function(data.iloc[:,i],ben=ben)*weight[i]\n",
    "        res_asset_risk.append(asset_risk)\n",
    "        \n",
    "    return res_asset_risk/np.sum(res_asset_risk)\n",
    "\n",
    "print(contribution_risk_function(optimal_weight,data=data,ben=\"^GSPC\"))\n"
   ]
  }
 ],
 "metadata": {
  "kernelspec": {
   "display_name": "Python 3",
   "language": "python",
   "name": "python3"
  },
  "language_info": {
   "codemirror_mode": {
    "name": "ipython",
    "version": 3
   },
   "file_extension": ".py",
   "mimetype": "text/x-python",
   "name": "python",
   "nbconvert_exporter": "python",
   "pygments_lexer": "ipython3",
   "version": "3.12.2"
  }
 },
 "nbformat": 4,
 "nbformat_minor": 5
}
