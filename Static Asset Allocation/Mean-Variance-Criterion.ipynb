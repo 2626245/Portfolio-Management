{
 "cells": [
  {
   "cell_type": "code",
   "execution_count": 9,
   "metadata": {},
   "outputs": [
    {
     "name": "stderr",
     "output_type": "stream",
     "text": [
      "[*********************100%***********************]  5 of 5 completed\n"
     ]
    },
    {
     "data": {
      "application/vnd.microsoft.datawrangler.viewer.v0+json": {
       "columns": [
        {
         "name": "Date",
         "rawType": "datetime64[ns]",
         "type": "datetime"
        },
        {
         "name": "AMT",
         "rawType": "float64",
         "type": "float"
        },
        {
         "name": "BAC",
         "rawType": "float64",
         "type": "float"
        },
        {
         "name": "BRK-B",
         "rawType": "float64",
         "type": "float"
        },
        {
         "name": "UNH",
         "rawType": "float64",
         "type": "float"
        },
        {
         "name": "USB",
         "rawType": "float64",
         "type": "float"
        }
       ],
       "ref": "03120fe0-3e34-4c82-8e89-e59ce8c4b9d4",
       "rows": [
        [
         "2012-01-04 00:00:00",
         "0.014453008933957623",
         "0.0017241551546089973",
         "-0.011328491889299519",
         "0.014566025040954722",
         "-0.000362425045976833"
        ],
        [
         "2012-01-05 00:00:00",
         "0.011566228085297503",
         "0.0860582353303534",
         "0.0016926725032857526",
         "0.00669954522420535",
         "0.014870912146657256"
        ],
        [
         "2012-01-06 00:00:00",
         "-0.0016573858962154464",
         "-0.020602238254634253",
         "-0.00701938012979586",
         "0.0036127769718854452",
         "-0.008220088386505675"
        ],
        [
         "2012-01-09 00:00:00",
         "0.0028214307384260007",
         "0.014563353792266254",
         "-0.0013090519036532688",
         "-0.0011364555553841083",
         "0.017657688720115416"
        ],
        [
         "2012-01-10 00:00:00",
         "0.014730661188051108",
         "0.05741636143798723",
         "0.014811865773460386",
         "-0.0018969321056160338",
         "0.0007084318006189694"
        ],
        [
         "2012-01-11 00:00:00",
         "0.015331498021434076",
         "0.03619854388720478",
         "0.00749162806474124",
         "0.007411522948858051",
         "0.005307441920076483"
        ],
        [
         "2012-01-12 00:00:00",
         "0.0032131907266097492",
         "-0.011644427233267307",
         "0.0064102564102563875",
         "-0.002641141551388282",
         "0.011615703614036299"
        ],
        [
         "2012-01-13 00:00:00",
         "-0.002081701038282313",
         "-0.026509661395607842",
         "-0.009299405820810125",
         "-0.0032151735751246857",
         "0.010090524703384895"
        ],
        [
         "2012-01-17 00:00:00",
         "-0.007862389916532986",
         "-0.01966727897503273",
         "0.0025717447122270976",
         "0.016508573643660096",
         "-0.008956145863125431"
        ],
        [
         "2012-01-18 00:00:00",
         "0.00954208122380007",
         "0.04938275629477551",
         "0.012184134069116004",
         "0.006906738903144527",
         "0.010774869586576807"
        ],
        [
         "2012-01-19 00:00:00",
         "-0.003524433752016165",
         "0.023529651928829942",
         "0.008489586726941445",
         "-0.03003314404723545",
         "-0.017881698664004686"
        ],
        [
         "2012-01-20 00:00:00",
         "-0.011093657270788704",
         "0.01580466859389884",
         "0.004020697813079455",
         "-0.000955987164257377",
         "0.006302590001076025"
        ],
        [
         "2012-01-23 00:00:00",
         "0.00487748105965613",
         "0.02545942874128393",
         "-0.009510725834077749",
         "0.00306125775422883",
         "-0.008698413239231484"
        ],
        [
         "2012-01-24 00:00:00",
         "0.010677896991288849",
         "0.0055174639079291765",
         "-0.008464916690194224",
         "-0.020980053112694796",
         "-0.0014041198281637968"
        ],
        [
         "2012-01-25 00:00:00",
         "0.008003747867556754",
         "0.008230368862295556",
         "0.017456613896366102",
         "0.004675241166991917",
         "0.005272516141365813"
        ],
        [
         "2012-01-26 00:00:00",
         "-0.013022032284736751",
         "-0.0068026250086938855",
         "-0.002379396564087588",
         "-0.023657444065398714",
         "-0.028322133849906228"
        ],
        [
         "2012-01-27 00:00:00",
         "0.01383767880905018",
         "-0.0013698766044522026",
         "-0.003012873237893454",
         "0.013307204370848646",
         "0.002518866557809085"
        ],
        [
         "2012-01-30 00:00:00",
         "-0.0023808452178294415",
         "-0.03017829513007253",
         "-0.009191585801679114",
         "0.0009798847313828851",
         "0.005384599423152725"
        ],
        [
         "2012-01-31 00:00:00",
         "0.01034069975691665",
         "0.008486561613813448",
         "-0.004066586413725148",
         "0.014098333669903207",
         "0.007496822577129469"
        ],
        [
         "2012-02-01 00:00:00",
         "-0.0025194732667828124",
         "0.03225770680860496",
         "0.003700407111954407",
         "0.028383984786159333",
         "0.012048326249740615"
        ],
        [
         "2012-02-02 00:00:00",
         "-0.0018941969482596521",
         "0.01222855022022351",
         "0.0008899020031185589",
         "-0.013518621578198942",
         "0.00035019552497428386"
        ],
        [
         "2012-02-03 00:00:00",
         "0.002214573507381301",
         "0.052349028847074486",
         "0.016131037583076102",
         "-0.02341087564546296",
         "0.022051600811970884"
        ],
        [
         "2012-02-06 00:00:00",
         "-0.0037875178388554476",
         "0.016581412408515073",
         "-0.001875019073486306",
         "-0.00038951848506485476",
         "-0.0013701802910802696"
        ],
        [
         "2012-02-07 00:00:00",
         "0.0038019176698518287",
         "-0.015056614515364553",
         "0.0003756891655619654",
         "0.014427711484682249",
         "0.009945489810846864"
        ],
        [
         "2012-02-08 00:00:00",
         "0.007574071523827497",
         "0.03566892663385812",
         "-0.002754051062504037",
         "0.002113609663166871",
         "0.00611161692949147"
        ],
        [
         "2012-02-09 00:00:00",
         "-0.0009396818956695085",
         "0.006150272522244871",
         "-0.0057746258187280075",
         "0.017645537383209176",
         "-0.009787234508497611"
        ],
        [
         "2012-02-10 00:00:00",
         "-0.007838287187026838",
         "-0.01344741914279668",
         "-0.0051767177842542145",
         "0.004900010858356563",
         "-0.011247613876724905"
        ],
        [
         "2012-02-13 00:00:00",
         "0.01137643944170219",
         "0.022304755423096845",
         "0.008249797161137051",
         "0.009939653020981654",
         "0.005860264216173361"
        ],
        [
         "2012-02-14 00:00:00",
         "0.005780299003145251",
         "-0.03272730810851299",
         "-0.006545874326281509",
         "0.011328159554527373",
         "-0.006168876260009948"
        ],
        [
         "2012-02-15 00:00:00",
         "-0.012892156358767615",
         "-0.025062757484176523",
         "-0.010770381320859723",
         "0.0029377220048421027",
         "-0.012758708682152342"
        ],
        [
         "2012-02-16 00:00:00",
         "-0.015578101821937196",
         "0.039845930557972364",
         "0.010759625599702005",
         "0.003112246137872754",
         "0.01571779647353755"
        ],
        [
         "2012-02-17 00:00:00",
         "-0.000959464906852836",
         "-0.008652744101525944",
         "0.006462989268378738",
         "-0.0020076543270969305",
         "0.009284782766125543"
        ],
        [
         "2012-02-21 00:00:00",
         "0.007839991762297993",
         "0.011221832536586485",
         "0.002644158767492577",
         "0.011704474542987287",
         "-0.007836290772121668"
        ],
        [
         "2012-02-22 00:00:00",
         "0.00428662444168082",
         "-0.01972863342859532",
         "-0.008790618766624902",
         "-0.0025305999575070404",
         "-0.010645971905281382"
        ],
        [
         "2012-02-23 00:00:00",
         "0.010274828730050256",
         "0.008805044433657372",
         "0.0055745906462056904",
         "-0.004349384550186297",
         "0.00624800238986345"
        ],
        [
         "2012-02-24 00:00:00",
         "0.003911665510693885",
         "-0.017456083606181894",
         "0.008441453266475607",
         "0.012922919225714757",
         "-0.008968402735103354"
        ],
        [
         "2012-02-27 00:00:00",
         "-0.016521075844726507",
         "0.020304154854949186",
         "0.002623676687538934",
         "0.0014377481200289477",
         "0.01983984480949319"
        ],
        [
         "2012-02-28 00:00:00",
         "-0.013153759374865626",
         "0.009950650610223821",
         "-0.010093427521417397",
         "0.001974128802592512",
         "-0.004436958189694473"
        ],
        [
         "2012-02-29 00:00:00",
         "0.004978538596797533",
         "-0.017262880581208617",
         "-0.012462304415137404",
         "-0.0016120676124287137",
         "0.007885050537508542"
        ],
        [
         "2012-03-01 00:00:00",
         "0.007350347811887703",
         "0.018820732037614363",
         "0.004206524460063532",
         "0.007249891125407748",
         "0.010543778047352514"
        ],
        [
         "2012-03-02 00:00:00",
         "-0.0071380076738145615",
         "0.0012315073459869819",
         "-0.00621982573447688",
         "-0.002678928653186863",
         "-0.014809495899162362"
        ],
        [
         "2012-03-05 00:00:00",
         "0.004792585147191719",
         "-0.019680326487444666",
         "0.011240225356076605",
         "-0.014326838300493971",
         "-0.012640913787107855"
        ],
        [
         "2012-03-06 00:00:00",
         "-0.011289390110625463",
         "-0.03262234504440942",
         "-0.008841694637259256",
         "-0.010537246600937689",
         "-0.018338939667947196"
        ],
        [
         "2012-03-07 00:00:00",
         "0.0",
         "0.0402074318379162",
         "0.004460283785859609",
         "-0.0012857881286594264",
         "0.009517040005314614"
        ],
        [
         "2012-03-08 00:00:00",
         "0.004181890924467302",
         "0.0049877530969015815",
         "0.0006343954827634501",
         "0.022430510409222393",
         "0.018156308221104478"
        ],
        [
         "2012-03-09 00:00:00",
         "-0.0035237932695988405",
         "-0.0012407497209622198",
         "0.006846721145204349",
         "0.0030572711063954205",
         "0.019204393182200796"
        ],
        [
         "2012-03-12 00:00:00",
         "-0.003535599648944121",
         "-0.007453447032047533",
         "0.0016370387535946662",
         "-0.013625295087676292",
         "-0.001345909445561122"
        ],
        [
         "2012-03-13 00:00:00",
         "-0.001612703352506295",
         "0.06257835827595426",
         "0.015338209789547141",
         "0.005634521273828019",
         "0.0448111557547648"
        ],
        [
         "2012-03-14 00:00:00",
         "0.017123683449241867",
         "0.041225161060691295",
         "-0.0006191561470425544",
         "0.008133160473737577",
         "0.015156233325527735"
        ],
        [
         "2012-03-15 00:00:00",
         "0.0033358642771472713",
         "0.045248338994691606",
         "0.0078056902560312835",
         "-0.0012555293311491411",
         "0.006353404085156944"
        ]
       ],
       "shape": {
        "columns": 5,
        "rows": 3269
       }
      },
      "text/html": [
       "<div>\n",
       "<style scoped>\n",
       "    .dataframe tbody tr th:only-of-type {\n",
       "        vertical-align: middle;\n",
       "    }\n",
       "\n",
       "    .dataframe tbody tr th {\n",
       "        vertical-align: top;\n",
       "    }\n",
       "\n",
       "    .dataframe thead th {\n",
       "        text-align: right;\n",
       "    }\n",
       "</style>\n",
       "<table border=\"1\" class=\"dataframe\">\n",
       "  <thead>\n",
       "    <tr style=\"text-align: right;\">\n",
       "      <th>Ticker</th>\n",
       "      <th>AMT</th>\n",
       "      <th>BAC</th>\n",
       "      <th>BRK-B</th>\n",
       "      <th>UNH</th>\n",
       "      <th>USB</th>\n",
       "    </tr>\n",
       "    <tr>\n",
       "      <th>Date</th>\n",
       "      <th></th>\n",
       "      <th></th>\n",
       "      <th></th>\n",
       "      <th></th>\n",
       "      <th></th>\n",
       "    </tr>\n",
       "  </thead>\n",
       "  <tbody>\n",
       "    <tr>\n",
       "      <th>2012-01-04</th>\n",
       "      <td>0.014453</td>\n",
       "      <td>0.001724</td>\n",
       "      <td>-0.011328</td>\n",
       "      <td>0.014566</td>\n",
       "      <td>-0.000362</td>\n",
       "    </tr>\n",
       "    <tr>\n",
       "      <th>2012-01-05</th>\n",
       "      <td>0.011566</td>\n",
       "      <td>0.086058</td>\n",
       "      <td>0.001693</td>\n",
       "      <td>0.006700</td>\n",
       "      <td>0.014871</td>\n",
       "    </tr>\n",
       "    <tr>\n",
       "      <th>2012-01-06</th>\n",
       "      <td>-0.001657</td>\n",
       "      <td>-0.020602</td>\n",
       "      <td>-0.007019</td>\n",
       "      <td>0.003613</td>\n",
       "      <td>-0.008220</td>\n",
       "    </tr>\n",
       "    <tr>\n",
       "      <th>2012-01-09</th>\n",
       "      <td>0.002821</td>\n",
       "      <td>0.014563</td>\n",
       "      <td>-0.001309</td>\n",
       "      <td>-0.001136</td>\n",
       "      <td>0.017658</td>\n",
       "    </tr>\n",
       "    <tr>\n",
       "      <th>2012-01-10</th>\n",
       "      <td>0.014731</td>\n",
       "      <td>0.057416</td>\n",
       "      <td>0.014812</td>\n",
       "      <td>-0.001897</td>\n",
       "      <td>0.000708</td>\n",
       "    </tr>\n",
       "    <tr>\n",
       "      <th>...</th>\n",
       "      <td>...</td>\n",
       "      <td>...</td>\n",
       "      <td>...</td>\n",
       "      <td>...</td>\n",
       "      <td>...</td>\n",
       "    </tr>\n",
       "    <tr>\n",
       "      <th>2024-12-24</th>\n",
       "      <td>0.001790</td>\n",
       "      <td>0.011164</td>\n",
       "      <td>0.009486</td>\n",
       "      <td>-0.000474</td>\n",
       "      <td>0.010555</td>\n",
       "    </tr>\n",
       "    <tr>\n",
       "      <th>2024-12-26</th>\n",
       "      <td>-0.003952</td>\n",
       "      <td>0.003831</td>\n",
       "      <td>0.000916</td>\n",
       "      <td>0.009978</td>\n",
       "      <td>0.003686</td>\n",
       "    </tr>\n",
       "    <tr>\n",
       "      <th>2024-12-27</th>\n",
       "      <td>-0.002687</td>\n",
       "      <td>-0.004714</td>\n",
       "      <td>-0.005598</td>\n",
       "      <td>-0.002269</td>\n",
       "      <td>-0.010610</td>\n",
       "    </tr>\n",
       "    <tr>\n",
       "      <th>2024-12-30</th>\n",
       "      <td>0.000275</td>\n",
       "      <td>-0.009698</td>\n",
       "      <td>-0.009529</td>\n",
       "      <td>-0.004294</td>\n",
       "      <td>-0.004949</td>\n",
       "    </tr>\n",
       "    <tr>\n",
       "      <th>2024-12-31</th>\n",
       "      <td>0.008190</td>\n",
       "      <td>0.000911</td>\n",
       "      <td>0.002477</td>\n",
       "      <td>-0.003820</td>\n",
       "      <td>0.001675</td>\n",
       "    </tr>\n",
       "  </tbody>\n",
       "</table>\n",
       "<p>3269 rows × 5 columns</p>\n",
       "</div>"
      ],
      "text/plain": [
       "Ticker           AMT       BAC     BRK-B       UNH       USB\n",
       "Date                                                        \n",
       "2012-01-04  0.014453  0.001724 -0.011328  0.014566 -0.000362\n",
       "2012-01-05  0.011566  0.086058  0.001693  0.006700  0.014871\n",
       "2012-01-06 -0.001657 -0.020602 -0.007019  0.003613 -0.008220\n",
       "2012-01-09  0.002821  0.014563 -0.001309 -0.001136  0.017658\n",
       "2012-01-10  0.014731  0.057416  0.014812 -0.001897  0.000708\n",
       "...              ...       ...       ...       ...       ...\n",
       "2024-12-24  0.001790  0.011164  0.009486 -0.000474  0.010555\n",
       "2024-12-26 -0.003952  0.003831  0.000916  0.009978  0.003686\n",
       "2024-12-27 -0.002687 -0.004714 -0.005598 -0.002269 -0.010610\n",
       "2024-12-30  0.000275 -0.009698 -0.009529 -0.004294 -0.004949\n",
       "2024-12-31  0.008190  0.000911  0.002477 -0.003820  0.001675\n",
       "\n",
       "[3269 rows x 5 columns]"
      ]
     },
     "execution_count": 9,
     "metadata": {},
     "output_type": "execute_result"
    }
   ],
   "source": [
    "import yfinance as yf\n",
    "\n",
    "stock_tickers =['UNH','AMT','BAC','USB','BRK-B'] \n",
    "\n",
    "database = yf.download(stock_tickers,start='2012-01-01',end ='2025-01-01',auto_adjust=True)\n",
    "database = database['Close']\n",
    "data = database.dropna().pct_change(1).dropna()\n",
    "data"
   ]
  },
  {
   "cell_type": "code",
   "execution_count": 10,
   "metadata": {},
   "outputs": [],
   "source": [
    "import numpy as np\n",
    "\n",
    "def MV_Criterion(weight,data):\n",
    "    Lambda = 3\n",
    "    W = 1\n",
    "    Wbar= (1+0.25)/100\n",
    "    \n",
    "    portfolio_return = np.multiply(data,np.transpose(weight))\n",
    "    portfolio_return = portfolio_return.sum(axis=1)\n",
    "    \n",
    "    mean = np.mean(portfolio_return,axis=0)\n",
    "    std = np.std(portfolio_return,axis=0)\n",
    "    criterion = (Wbar**(-1-Lambda))/1+Lambda +(Wbar**-Lambda)*W*mean - (Wbar**(-1-Lambda))*Lambda*0.5*W**2*std**2\n",
    "    \n",
    "    return -1*criterion\n",
    "    "
   ]
  },
  {
   "cell_type": "code",
   "execution_count": 11,
   "metadata": {},
   "outputs": [
    {
     "data": {
      "text/plain": [
       "array([2.40814002e-01, 8.02278998e-08, 6.04236043e-01, 1.54949943e-01,\n",
       "       0.00000000e+00])"
      ]
     },
     "execution_count": 11,
     "metadata": {},
     "output_type": "execute_result"
    }
   ],
   "source": [
    "##calculating the weights \n",
    "import numpy as np\n",
    "from scipy.optimize import Bounds, minimize\n",
    "\n",
    "validation_score = 0.3\n",
    "train_size = int(len(data)*(1-validation_score))\n",
    "train_data = data.iloc[:train_size,:]\n",
    "test_data = data.iloc[train_size:,:]\n",
    "\n",
    "n = data.shape[1]\n",
    "x0 = np.ones(n)\n",
    "\n",
    "cons = ({'type':'eq','fun':lambda x:np.sum(abs(x))-1})\n",
    "\n",
    "Bounds = [(0,1) for i in range(0,n)]\n",
    "\n",
    "res = minimize(MV_Criterion,x0,args=data,method=\"SLSQP\",constraints=cons,bounds=Bounds,options={'disp':False})\n",
    "res.x\n"
   ]
  },
  {
   "cell_type": "code",
   "execution_count": 12,
   "metadata": {},
   "outputs": [
    {
     "data": {
      "image/png": "[encoded data removed]",
      "text/plain": [
       "<Figure size 1800x500 with 1 Axes>"
      ]
     },
     "metadata": {},
     "output_type": "display_data"
    }
   ],
   "source": [
    "#Testing the perfomance on the test data\n",
    "import matplotlib.pyplot as plt\n",
    "\n",
    "\n",
    "portfolio_return_test = np.multiply(data,np.transpose(res.x))\n",
    "portfolio_return_test = portfolio_return_test.sum(axis=1)\n",
    "\n",
    "#plot the cumulative return\n",
    "plt.figure(figsize=(18,5))\n",
    "plt.plot(np.cumsum(portfolio_return_test)*100,color=\"#035593\",linewidth=3)\n",
    "plt.ylabel(\"Cumulative return %\", size=15,fontweight=\"bold\")\n",
    "plt.xticks(size=15,fontweight=\"bold\")\n",
    "plt.yticks(size=15,fontweight=\"bold\")\n",
    "plt.title(\"Cumulative return of the mean variance potfolio\", size=20)\n",
    "plt.axhline(0, color=\"r\",linewidth=3)\n",
    "plt.show()"
   ]
  }
 ],
 "metadata": {
  "kernelspec": {
   "display_name": "Python 3",
   "language": "python",
   "name": "python3"
  },
  "language_info": {
   "codemirror_mode": {
    "name": "ipython",
    "version": 3
   },
   "file_extension": ".py",
   "mimetype": "text/x-python",
   "name": "python",
   "nbconvert_exporter": "python",
   "pygments_lexer": "ipython3",
   "version": "3.13.2"
  }
 },
 "nbformat": 4,
 "nbformat_minor": 4
}
