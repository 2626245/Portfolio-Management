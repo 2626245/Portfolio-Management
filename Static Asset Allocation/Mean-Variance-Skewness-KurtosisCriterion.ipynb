{
 "cells": [
  {
   "cell_type": "code",
   "execution_count": 1,
   "id": "061d95fb-3693-4267-87cc-9c59cb420eb2",
   "metadata": {},
   "outputs": [
    {
     "name": "stderr",
     "output_type": "stream",
     "text": [
      "Failed to get ticker 'RIG' reason: Expecting value: line 1 column 1 (char 0)\n",
      "Failed to get ticker 'META' reason: Expecting value: line 1 column 1 (char 0)\n",
      "Failed to get ticker 'AMZN' reason: Expecting value: line 1 column 1 (char 0)\n",
      "Failed to get ticker 'INTC' reason: Expecting value: line 1 column 1 (char 0)\n",
      "Failed to get ticker 'GOOGL' reason: Expecting value: line 1 column 1 (char 0)\n"
     ]
    },
    {
     "name": "stdout",
     "output_type": "stream",
     "text": [
      "[                       0%%                      ]"
     ]
    },
    {
     "name": "stderr",
     "output_type": "stream",
     "text": [
      "Failed to get ticker 'NFLX' reason: Expecting value: line 1 column 1 (char 0)\n",
      "Failed to get ticker 'NVDA' reason: Expecting value: line 1 column 1 (char 0)\n"
     ]
    },
    {
     "name": "stdout",
     "output_type": "stream",
     "text": [
      "[****************      33%%                      ]  4 of 12 completed"
     ]
    },
    {
     "name": "stderr",
     "output_type": "stream",
     "text": [
      "Failed to get ticker 'AAPL' reason: Expecting value: line 1 column 1 (char 0)\n"
     ]
    },
    {
     "name": "stdout",
     "output_type": "stream",
     "text": [
      "[**********************50%%                      ]  6 of 12 completed"
     ]
    },
    {
     "name": "stderr",
     "output_type": "stream",
     "text": [
      "Failed to get ticker 'TSLA' reason: Expecting value: line 1 column 1 (char 0)\n"
     ]
    },
    {
     "name": "stdout",
     "output_type": "stream",
     "text": [
      "[**********************67%%******                ]  8 of 12 completed"
     ]
    },
    {
     "name": "stderr",
     "output_type": "stream",
     "text": [
      "Failed to get ticker 'VALE' reason: Expecting value: line 1 column 1 (char 0)\n",
      "Failed to get ticker 'BAC' reason: Expecting value: line 1 column 1 (char 0)\n"
     ]
    },
    {
     "name": "stdout",
     "output_type": "stream",
     "text": [
      "[**********************75%%**********            ]  9 of 12 completed"
     ]
    },
    {
     "name": "stderr",
     "output_type": "stream",
     "text": [
      "Failed to get ticker 'OSCR' reason: Expecting value: line 1 column 1 (char 0)\n"
     ]
    },
    {
     "name": "stdout",
     "output_type": "stream",
     "text": [
      "[*********************100%%**********************]  11 of 12 completed"
     ]
    },
    {
     "name": "stderr",
     "output_type": "stream",
     "text": [
      "\n",
      "12 Failed downloads:\n",
      "['RIG', 'META', 'AMZN', 'INTC', 'GOOGL', 'NFLX', 'NVDA', 'AAPL', 'TSLA', 'VALE', 'BAC', 'OSCR']: Exception('%ticker%: No timezone found, symbol may be delisted')\n"
     ]
    },
    {
     "name": "stdout",
     "output_type": "stream",
     "text": [
      "\n"
     ]
    },
    {
     "data": {
      "application/vnd.microsoft.datawrangler.viewer.v0+json": {
       "columns": [
        {
         "name": "Date",
         "rawType": "object",
         "type": "string"
        },
        {
         "name": "AAPL",
         "rawType": "float64",
         "type": "float"
        },
        {
         "name": "AMZN",
         "rawType": "float64",
         "type": "float"
        },
        {
         "name": "BAC",
         "rawType": "float64",
         "type": "float"
        },
        {
         "name": "GOOGL",
         "rawType": "float64",
         "type": "float"
        },
        {
         "name": "INTC",
         "rawType": "float64",
         "type": "float"
        },
        {
         "name": "META",
         "rawType": "float64",
         "type": "float"
        },
        {
         "name": "NFLX",
         "rawType": "float64",
         "type": "float"
        },
        {
         "name": "NVDA",
         "rawType": "float64",
         "type": "float"
        },
        {
         "name": "OSCR",
         "rawType": "float64",
         "type": "float"
        },
        {
         "name": "RIG",
         "rawType": "float64",
         "type": "float"
        },
        {
         "name": "TSLA",
         "rawType": "float64",
         "type": "float"
        },
        {
         "name": "VALE",
         "rawType": "float64",
         "type": "float"
        }
       ],
       "ref": "980f280c-05aa-4657-afd1-cc39f46817a1",
       "rows": [],
       "shape": {
        "columns": 12,
        "rows": 0
       }
      },
      "text/html": [
       "<div>\n",
       "<style scoped>\n",
       "    .dataframe tbody tr th:only-of-type {\n",
       "        vertical-align: middle;\n",
       "    }\n",
       "\n",
       "    .dataframe tbody tr th {\n",
       "        vertical-align: top;\n",
       "    }\n",
       "\n",
       "    .dataframe thead th {\n",
       "        text-align: right;\n",
       "    }\n",
       "</style>\n",
       "<table border=\"1\" class=\"dataframe\">\n",
       "  <thead>\n",
       "    <tr style=\"text-align: right;\">\n",
       "      <th></th>\n",
       "      <th>AAPL</th>\n",
       "      <th>AMZN</th>\n",
       "      <th>BAC</th>\n",
       "      <th>GOOGL</th>\n",
       "      <th>INTC</th>\n",
       "      <th>META</th>\n",
       "      <th>NFLX</th>\n",
       "      <th>NVDA</th>\n",
       "      <th>OSCR</th>\n",
       "      <th>RIG</th>\n",
       "      <th>TSLA</th>\n",
       "      <th>VALE</th>\n",
       "    </tr>\n",
       "    <tr>\n",
       "      <th>Date</th>\n",
       "      <th></th>\n",
       "      <th></th>\n",
       "      <th></th>\n",
       "      <th></th>\n",
       "      <th></th>\n",
       "      <th></th>\n",
       "      <th></th>\n",
       "      <th></th>\n",
       "      <th></th>\n",
       "      <th></th>\n",
       "      <th></th>\n",
       "      <th></th>\n",
       "    </tr>\n",
       "  </thead>\n",
       "  <tbody>\n",
       "  </tbody>\n",
       "</table>\n",
       "</div>"
      ],
      "text/plain": [
       "Empty DataFrame\n",
       "Columns: [AAPL, AMZN, BAC, GOOGL, INTC, META, NFLX, NVDA, OSCR, RIG, TSLA, VALE]\n",
       "Index: []"
      ]
     },
     "execution_count": 1,
     "metadata": {},
     "output_type": "execute_result"
    }
   ],
   "source": [
    "import yfinance as yf\n",
    "\n",
    "stock_tickers = ['META', 'NFLX', 'TSLA','NVDA','AMZN','AAPL','GOOGL','INTC','BAC','OSCR','VALE','RIG']\n",
    "database = yf.download(stock_tickers,start='2012-01-01',end ='2025-01-01' ,auto_adjust=True)\n",
    "database = database['Close']\n",
    "\n",
    "data = database.dropna().pct_change(1).dropna()\n",
    "data"
   ]
  },
  {
   "cell_type": "code",
   "execution_count": 6,
   "id": "f32b0115",
   "metadata": {},
   "outputs": [
    {
     "data": {
      "text/plain": [
       "429"
      ]
     },
     "execution_count": 6,
     "metadata": {},
     "output_type": "execute_result"
    }
   ],
   "source": [
    "import requests\n",
    "requests.get(\"https://query1.finance.yahoo.com\").status_code\n"
   ]
  },
  {
   "cell_type": "code",
   "execution_count": 3,
   "id": "1a6a8cbb",
   "metadata": {},
   "outputs": [],
   "source": [
    "import numpy as np\n",
    "import pandas as pd\n",
    "from scipy.stats import skew as np_skew,kurtosis as np_kurtosis\n",
    "\n",
    "def sk_Criterion(weight,data):\n",
    "    Lambda = 3\n",
    "    W = 1\n",
    "    Wbar = (1+0.25)/100\n",
    "    portfolio_return = np.multiply(data,np.transpose(weight))\n",
    "    portfolio_return = portfolio_return.sum(axis=1)\n",
    "    mean = np.mean(portfolio_return,axis=0)\n",
    "    std = np.std(portfolio_return,axis=0)\n",
    "    skew = np_skew(portfolio_return)\n",
    "    kurt = np_kurtosis(portfolio_return)\n",
    "    \n",
    "    mv_criterion = (Wbar**-1-Lambda)/1+Lambda + (Wbar**-Lambda)*W*mean - 0.5*Lambda*(W**2)*(std**2)*Wbar**(-1-Lambda) \n",
    "    \n",
    "    criterion = mv_criterion + ((Lambda*(Lambda+1))/6)*(W**3)*(Wbar**-2-Lambda)*skew -((Lambda*(Lambda+1)*(Lambda+2))/24)*(W**4)*(Wbar**-3-Lambda)*kurt\n",
    "    \n",
    "    return -1*criterion\n",
    "    "
   ]
  },
  {
   "cell_type": "code",
   "execution_count": 4,
   "id": "752d752c",
   "metadata": {},
   "outputs": [
    {
     "name": "stderr",
     "output_type": "stream",
     "text": [
      "C:\\Users\\ndebe\\AppData\\Local\\Temp\\ipykernel_22260\\1254289171.py:13: SmallSampleWarning: One or more sample arguments is too small; all returned values will be NaN. See documentation for sample size requirements.\n",
      "  skew = np_skew(portfolio_return)\n",
      "C:\\Users\\ndebe\\AppData\\Local\\Temp\\ipykernel_22260\\1254289171.py:14: SmallSampleWarning: One or more sample arguments is too small; all returned values will be NaN. See documentation for sample size requirements.\n",
      "  kurt = np_kurtosis(portfolio_return)\n"
     ]
    },
    {
     "data": {
      "text/plain": [
       "array([1., 1., 1., 1., 1., 1., 1., 1., 1., 1., 1., 1.])"
      ]
     },
     "execution_count": 4,
     "metadata": {},
     "output_type": "execute_result"
    }
   ],
   "source": [
    "import numpy as np\n",
    "from scipy.optimize import minimize\n",
    "\n",
    "\n",
    "\n",
    "validation_score = 0.3\n",
    "train_size = int(len(data)*(1-validation_score))\n",
    "train_data = data.iloc[:train_size,:]\n",
    "test_data = data.iloc[train_size:,:]\n",
    "\n",
    "n = data.shape[1]\n",
    "x0 = np.ones(n)\n",
    "\n",
    "cons = ({'type':'eq','fun':lambda x:np.sum(abs(x))-1})\n",
    "Bounds = [(0,1) for i in range(0,n)]\n",
    "res = minimize(sk_Criterion, x0, method=\"SLSQP\", args=(train_data,), bounds=Bounds, constraints=cons, options={'disp':False})\n",
    "res_weight = res.x\n",
    "res_weight\n"
   ]
  },
  {
   "cell_type": "code",
   "execution_count": 5,
   "id": "cedf3302",
   "metadata": {},
   "outputs": [
    {
     "data": {
      "image/png": "[encoded data removed]",
      "text/plain": [
       "<Figure size 1800x500 with 1 Axes>"
      ]
     },
     "metadata": {},
     "output_type": "display_data"
    }
   ],
   "source": [
    "#Testing the perfomance on the test data\n",
    "import matplotlib.pyplot as plt\n",
    "\n",
    "\n",
    "portfolio_return_test = np.multiply(test_data,np.transpose(res_weight))\n",
    "portfolio_return_test = portfolio_return_test.sum(axis=1)\n",
    "\n",
    "#plot the cumulative return\n",
    "plt.figure(figsize=(18,5))\n",
    "plt.plot(np.cumsum(portfolio_return_test)*100,color=\"#035593\",linewidth=3)\n",
    "plt.ylabel(\"Cumulative return %\", size=15,fontweight=\"bold\")\n",
    "plt.xticks(size=15,fontweight=\"bold\")\n",
    "plt.yticks(size=15,fontweight=\"bold\")\n",
    "plt.title(\"Cumulative return of the mean variance Kurtosis Criteron potfolio\", size=20)\n",
    "plt.axhline(0, color=\"r\",linewidth=3)\n",
    "plt.show()"
   ]
  }
 ],
 "metadata": {
  "kernelspec": {
   "display_name": "Python 3",
   "language": "python",
   "name": "python3"
  },
  "language_info": {
   "codemirror_mode": {
    "name": "ipython",
    "version": 3
   },
   "file_extension": ".py",
   "mimetype": "text/x-python",
   "name": "python",
   "nbconvert_exporter": "python",
   "pygments_lexer": "ipython3",
   "version": "3.13.2"
  }
 },
 "nbformat": 4,
 "nbformat_minor": 5
}
